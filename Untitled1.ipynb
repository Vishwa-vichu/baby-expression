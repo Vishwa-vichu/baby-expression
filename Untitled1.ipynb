{
 "cells": [
  {
   "cell_type": "code",
   "execution_count": null,
   "id": "3c384c3d-1468-469c-bb4f-9858cf397976",
   "metadata": {},
   "outputs": [],
   "source": [
    "from sklearnex import patch_sklearn\n",
    "patch_sklearn()\n",
    "from keras.models import load_model  # TensorFlow is required for Keras to work\n",
    "import cv2  # Install opencv-python\n",
    "import numpy as np\n",
    "\n",
    "# Disable scientific notation for clarity\n",
    "np.set_printoptions(suppress=True)\n",
    "\n",
    "# Load the model\n",
    "model = load_model(\"keras_Model.h5\", compile=False)\n",
    "\n",
    "# Load the labels\n",
    "class_names = open(\"labels.txt\", \"r\").readlines()\n",
    "\n",
    "# CAMERA can be 0 or 1 based on default camera of your computer\n",
    "camera = cv2.VideoCapture(0)\n",
    "\n",
    "while True:\n",
    "    # Grab the webcamera's image.\n",
    "    ret, image = camera.read()\n",
    "\n",
    "    # Resize the raw image into (224-height,224-width) pixels\n",
    "    image = cv2.resize(image, (224, 224), interpolation=cv2.INTER_AREA)\n",
    "\n",
    "    # Show the image in a window\n",
    "    cv2.imshow(\"Webcam Image\", image)\n",
    "\n",
    "    # Make the image a numpy array and reshape it to the models input shape.\n",
    "    image = np.asarray(image, dtype=np.float32).reshape(1, 224, 224, 3)\n",
    "\n",
    "    # Normalize the image array\n",
    "    image = (image / 127.5) - 1\n",
    "\n",
    "    # Predicts the model\n",
    "    prediction = model.predict(image)\n",
    "    index = np.argmax(prediction)\n",
    "    class_name = class_names[index]\n",
    "    confidence_score = prediction[0][index]\n",
    "\n",
    "    # Print prediction and confidence score\n",
    "    print(\"Class:\", class_name[2:], end=\"\")\n",
    "    print(\"Confidence Score:\", str(np.round(confidence_score * 100))[:-2], \"%\")\n",
    "\n",
    "    # Listen to the keyboard for presses.\n",
    "    keyboard_input = cv2.waitKey(1)\n",
    "\n",
    "    # 27 is the ASCII for the esc key on your keyboard.\n",
    "    if keyboard_input == 27:\n",
    "        break\n",
    "\n",
    "camera.release()\n",
    "cv2.destroyAllWindows()"
   ]
  }
 ],
 "metadata": {
  "kernelspec": {
   "display_name": "Tensorflow (AI kit)",
   "language": "python",
   "name": "c009-intel_distribution_of_python_3_oneapi-beta05-tf"
  },
  "language_info": {
   "name": ""
  }
 },
 "nbformat": 4,
 "nbformat_minor": 5
}

Output

Class: cat      Confidence Score: 97%
Class: dog      Confidence Score: 95%
Class: person   Confidence Score: 87%
